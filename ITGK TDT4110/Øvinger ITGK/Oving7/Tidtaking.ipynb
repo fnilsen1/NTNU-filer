{
 "cells": [
  {
   "cell_type": "markdown",
   "id": "0f933c95",
   "metadata": {
    "deletable": false,
    "editable": false,
    "run_control": {
     "frozen": true
    }
   },
   "source": [
    "<nav class=\"navbar navbar-default\">\n",
    "  <div class=\"container-fluid\">\n",
    "    <div class=\"navbar-header\">\n",
    "      <a class=\"navbar-brand\" href=\"_Oving7.ipynb\">Øving 7</a>\n",
    "    </div>\n",
    "    <ul class=\"nav navbar-nav\">\n",
    "    <li><a href=\"Generelt%20om%20dictionary.ipynb\">Generelt om dictionary</a></li>\n",
    "    <li><a href=\"Innebygde%20funksjoner%20i%20dictionaries.ipynb\">Innebygde funksjoner</a></li>\n",
    "    <li><a href=\"Generelt%20om%20sets.ipynb\">Generelt om sets</a></li>\n",
    "    <li><a href=\"Generelt%20om%20filbehandling.ipynb\">Generelt om filbehandling</a></li>\n",
    "    <li><a href=\"Osteviruset.ipynb\">Osteviruset</a></li>\n",
    "    <li><a href=\"Bursdagsdatabasen.ipynb\">Bursdagsdatabasen</a></li>\n",
    "    <li><a href=\"Tallak%20teller%20antall%20tall.ipynb\">Tallak teller antall tall</a></li>\n",
    "    <li><a href=\"Enhetstesting.ipynb\">Enhetstesting</a></li>\n",
    "    <li class = \"active\"><a href=\"Tidtaking.ipynb\">Tidtaking</a></li>\n",
    "    <li><a href=\"Moduler.ipynb\">Moduler</a></li>\n",
    "    <li><a href=\"Opptaksgrenser.ipynb\">Opptaksgrenser</a></li>\n",
    "    <li><a href=\"Soke%20i%20tekst.ipynb\">Søke i tekst</a></li>\n",
    "    <li><a href=\"Tre%20paa%20rad.ipynb\">Tre på rad</a></li>\n",
    "    </ul>\n",
    "  </div>\n",
    "</nav>\n",
    "\n",
    "# Tidtaking\n",
    "\n",
    "**Læringsmål:**\n",
    "* Tidtaking"
   ]
  },
  {
   "cell_type": "markdown",
   "id": "9149c232",
   "metadata": {
    "deletable": false,
    "editable": false,
    "heading_collapsed": true,
    "run_control": {
     "frozen": true
    }
   },
   "source": [
    "## Tutorial: Tidtaking"
   ]
  },
  {
   "cell_type": "markdown",
   "id": "8fab575b",
   "metadata": {
    "deletable": false,
    "editable": false,
    "hidden": true,
    "run_control": {
     "frozen": true
    }
   },
   "source": [
    "Datamaskiner er raske. De kan utføre over 100 millioner operasjoner pr. sekund. Alt avhenger såklart av datamaskinen din, og dens komponenter. Forskjellige programmeringsspråk har også varierende hastighet på kjøring av kode. Jo mer komplisert kode du har, jo tregere kjører også koden din. Rask utførelse av kode er viktig, spesielt mtp sanntidsprogrammer. Derfor er det viktig å vit hva som kjører raskt, og hva som kjører tregt. Python er et programmeringsspråk som er kjent for å være tregt, men alt avhenger av hvordan du skriver koden din. For-løkken under, som kun itererer 10000000 ganger (og ikke gjør noen ting i loopen) kjører på 0.124668559ms, målt i gjennomsnitt over 100 kjøringer. (**Merk:** Tiden vil variere for hver kjøring og avhengig av prosessorkraft. Loopen nedenfor ble testet på en AMD Ryzen 5 3600 prosessor).   "
   ]
  },
  {
   "cell_type": "code",
   "execution_count": null,
   "id": "a4b9e4c7",
   "metadata": {
    "hidden": true
   },
   "outputs": [],
   "source": [
    "for _ in range(10000000):\n",
    "    pass"
   ]
  },
  {
   "cell_type": "markdown",
   "id": "d7d314ca",
   "metadata": {
    "hidden": true
   },
   "source": [
    "Med en gang loopen begynner å gjøre ting, ser vi at tiden øker. F.eks bruker loopen nedenfor målt i gjennomsnitt over 100 kjøringer, 0.3590ms på å kjøre. "
   ]
  },
  {
   "cell_type": "code",
   "execution_count": null,
   "id": "fb46b0d6",
   "metadata": {
    "hidden": true
   },
   "outputs": [],
   "source": [
    "c = 0\n",
    "for i in range(10000000):\n",
    "    c += i"
   ]
  },
  {
   "cell_type": "markdown",
   "id": "a6641b6e",
   "metadata": {
    "deletable": false,
    "editable": false,
    "hidden": true,
    "run_control": {
     "frozen": true
    }
   },
   "source": [
    "Vi er fortsatt nede på under 0.5 sekunds kjøring. Det kan være vanskelig å se for seg at kjøretid skal ha så mye å si, men større programmer kan ofte ta flere minutter å kjøre. Derfor er det viktig å tenke over hvordan man skriver koden sin. Eksemplet nedenfor viser tidsforskjellen mellom et numpy array og en vanlig liste."
   ]
  },
  {
   "cell_type": "code",
   "execution_count": 3,
   "id": "7cc12ece",
   "metadata": {
    "hidden": true
   },
   "outputs": [],
   "source": [
    "from time import perf_counter\n",
    "import numpy as np"
   ]
  },
  {
   "cell_type": "code",
   "execution_count": 6,
   "id": "2855397a",
   "metadata": {
    "hidden": true
   },
   "outputs": [
    {
     "name": "stdout",
     "output_type": "stream",
     "text": [
      "Python brukte 0.00835s\n",
      "Numpy brukte 0.00025s\n",
      "Numpy var 33.87591234931819 ganger raskere enn Python\n"
     ]
    }
   ],
   "source": [
    "l = [i for i in range(100000)]\n",
    "\n",
    "start = perf_counter()\n",
    "\n",
    "l = [i + 2 for i in l]\n",
    "\n",
    "python_time = perf_counter() - start\n",
    "\n",
    "print(f'Python brukte {python_time:.5f}s')\n",
    "\n",
    "arr = np.array([i for i in range(100000)])\n",
    "\n",
    "start = perf_counter()\n",
    "\n",
    "arr += 2\n",
    "\n",
    "numpy_time = perf_counter() - start\n",
    "\n",
    "print(f'Numpy brukte {numpy_time:.5f}s')\n",
    "\n",
    "print(f'Numpy var {python_time/numpy_time} ganger raskere enn Python')\n"
   ]
  },
  {
   "cell_type": "markdown",
   "id": "f73e36d1",
   "metadata": {
    "deletable": false,
    "editable": false,
    "hidden": true,
    "run_control": {
     "frozen": true
    }
   },
   "source": [
    "Her ser vi en forskjell i tiden, hvor numpy er raskere enn \"standard\"-Python. Forskjellen blir enda større, jo større arrayet er:"
   ]
  },
  {
   "cell_type": "code",
   "execution_count": 7,
   "id": "f5c16005",
   "metadata": {
    "hidden": true
   },
   "outputs": [
    {
     "name": "stdout",
     "output_type": "stream",
     "text": [
      "Python brukte 0.06620s\n",
      "Numpy brukte 0.00062s\n",
      "Numpy var 106.29592068206237 ganger raskere enn Python\n"
     ]
    }
   ],
   "source": [
    "l = [i for i in range(1000000)]\n",
    "\n",
    "start = perf_counter()\n",
    "\n",
    "l = [i + 2 for i in l]\n",
    "\n",
    "python_time = perf_counter() - start\n",
    "\n",
    "print(f'Python brukte {python_time:.5f}s')\n",
    "\n",
    "arr = np.array([i for i in range(1000000)])\n",
    "\n",
    "start = perf_counter()\n",
    "\n",
    "arr += 2\n",
    "\n",
    "numpy_time = perf_counter() - start\n",
    "\n",
    "print(f'Numpy brukte {numpy_time:.5f}s')\n",
    "\n",
    "print(f'Numpy var {python_time/numpy_time} ganger raskere enn Python')"
   ]
  },
  {
   "cell_type": "markdown",
   "id": "d5df68ef",
   "metadata": {
    "deletable": false,
    "editable": false,
    "hidden": true,
    "run_control": {
     "frozen": true
    }
   },
   "source": [
    "Eksemplene ovenfor er én måte å måle tiden kjøring av en kodeblokk tar. Vi importerer først funksjonen `perf_counter()` fra `time` biblioteket. `perf_counter()` er en funksjon som returnerer en slags relativ tid. Ved å lagre tiden før kjøring av kode, og deretter trekke denne fra tiden etter en kodeblokk har kjørt, finner vi hvor lang tid koden brukte på å kjøre."
   ]
  },
  {
   "cell_type": "markdown",
   "id": "be7e2534",
   "metadata": {
    "deletable": false,
    "editable": false,
    "hidden": true,
    "run_control": {
     "frozen": true
    }
   },
   "source": [
    "Det finnes andre måter å ta tiden på også. For eksempel `timeit()` funksjonen i `timeit` biblioteket:"
   ]
  },
  {
   "cell_type": "code",
   "execution_count": 10,
   "id": "12d3f5b3",
   "metadata": {
    "hidden": true
   },
   "outputs": [
    {
     "data": {
      "text/plain": [
       "1.5270864000049187"
      ]
     },
     "execution_count": 10,
     "metadata": {},
     "output_type": "execute_result"
    }
   ],
   "source": [
    "import timeit\n",
    "\n",
    "timeit.timeit('\"-\".join(str(n) for n in range(1000))', number=10000)\n",
    "\n"
   ]
  },
  {
   "cell_type": "markdown",
   "id": "fff7f994",
   "metadata": {
    "deletable": false,
    "editable": false,
    "hidden": true,
    "run_control": {
     "frozen": true
    }
   },
   "source": [
    "I motsetning til `perf_counter()` har `timeit()` en \"innebygd\" timer, og tar inn en _streng_ med kode. Kodeblokken over kjører koden `\"-\".join(str(n) for n in range(1000))` 10000 ganger, og returnerer tiden på hvor lang tid det tar å kjøre, i sekunder. \n",
    "\n",
    "Strengen _trenger_ ikke være på kun én linje, vi kan skrive større programmer og bruke med `timeit`:"
   ]
  },
  {
   "cell_type": "code",
   "execution_count": 22,
   "id": "77812cbf",
   "metadata": {
    "hidden": true
   },
   "outputs": [
    {
     "data": {
      "text/plain": [
       "0.23527950000425335"
      ]
     },
     "execution_count": 22,
     "metadata": {},
     "output_type": "execute_result"
    }
   ],
   "source": [
    "import timeit\n",
    "\n",
    "kode = \"\"\"\n",
    "arr1 = np.array([i for i in range(1000000)])\n",
    "arr2 = np.array([i for i in range(1000000)])\n",
    "arr = np.dot(arr1, arr2)\n",
    "\"\"\"\n",
    "\n",
    "timeit.timeit(kode, setup=\"import numpy as np\", number=1)"
   ]
  },
  {
   "cell_type": "markdown",
   "id": "679a5733",
   "metadata": {
    "deletable": false,
    "editable": false,
    "hidden": true,
    "run_control": {
     "frozen": true
    }
   },
   "source": [
    "I eksempelet over har vi lagt med et nytt argument til `timeit`-funksjonen; `setup`. Dette er kode som blir kjør _før_ tiden begynnes å tas. Denne er nyttig, da vi ofte ikke trenger ta med tiden det tar å f.eks importere numpy som i koden over. Vi har også satt inn `number=1`, som betyr at koden skal kjøres kun én gang. Hvis vi ikke skriver inn antall ganger koden skal kjøre, kjører den 1000000 ganger som standard."
   ]
  },
  {
   "cell_type": "markdown",
   "id": "1ac51570",
   "metadata": {
    "deletable": false,
    "editable": false,
    "heading_collapsed": true,
    "run_control": {
     "frozen": true
    }
   },
   "source": [
    "## a)"
   ]
  },
  {
   "cell_type": "markdown",
   "id": "66a374e1",
   "metadata": {
    "deletable": false,
    "editable": false,
    "hidden": true,
    "run_control": {
     "frozen": true
    }
   },
   "source": [
    "I denne oppgaven skal du sammenligne tiden det tar å finne alle tall som er delelig med 7 mellom 0 og 10 000 000 mellom et numpy array og en standard python liste ved hjelp av `perfect_counter()`. Begyn å ta tiden fra _etter_ arrayet/listen er opprettet. Du kan bruke `[i for i in range(10_000_000)]` for å opprette listen/arrayet, slik som i tutorialen over. I oppgaven her skal du altså _først_ opprette et array og en liste bestående av tallene mellom 0 og 10 000 000, og _deretter_ lage et nytt array/ny liste med tallene som er delelige med 7.\n",
    "\n",
    "***Skriv koden din i kodeblokken nedenfor***"
   ]
  },
  {
   "cell_type": "code",
   "execution_count": 21,
   "id": "c9fb3ca2",
   "metadata": {
    "hidden": true
   },
   "outputs": [
    {
     "name": "stdout",
     "output_type": "stream",
     "text": [
      "Python brukte 0.8112527999983286 sekunder\n",
      "Numpy brukte 0.06951970000227448 sekunder\n"
     ]
    }
   ],
   "source": [
    "# Skriv koden din her\n",
    "from time import perf_counter\n",
    "import numpy as np\n",
    "\n",
    "liste = [i for i in range(10000000)]\n",
    "\n",
    "start = perf_counter()\n",
    "new_list = []\n",
    "for i in liste:\n",
    "    if i%7==0:\n",
    "        new_list.append(i)\n",
    "python_time = perf_counter() - start\n",
    "print(f\"Python brukte {python_time} sekunder\")\n",
    "\n",
    "array = np.array([i for i in range(10000000)])\n",
    "new_array = []\n",
    "start = perf_counter()\n",
    "divisible_by_7 = array[array % 7 == 0]\n",
    "\n",
    "np_time = perf_counter() - start\n",
    "print(f\"Numpy brukte {np_time} sekunder\")\n",
    "\n",
    "\n"
   ]
  },
  {
   "cell_type": "markdown",
   "id": "ee0fe513",
   "metadata": {
    "deletable": false,
    "editable": false,
    "heading_collapsed": true,
    "run_control": {
     "frozen": true
    }
   },
   "source": [
    "## b)"
   ]
  },
  {
   "cell_type": "markdown",
   "id": "b1a9b620",
   "metadata": {
    "deletable": false,
    "editable": false,
    "hidden": true,
    "run_control": {
     "frozen": true
    }
   },
   "source": [
    "I denne oppgaven skal du sammenligne tiden det tar å sortere et array med pythons `sorted()`-funksjon, python listers `.sort()`-funksjon og numpys `np.sort()`. Gjør dette ved bruk av `timeit`-funksjonen fra `timeit`-biblioteket. Noen krav til oppgaven:\n",
    "\n",
    "* Arrayet/listen som skal sorteres skal inneholde 10 000 000 tilfeldige elementer mellom 0 og 10 000 000.\n",
    "* Du _skal_ bruke `setup`-argumentet for imports og opprettelse av array/liste. Python-kodene kan bruke samme setup.\n",
    "\n",
    "Hvilken av sorteringsfunksjonene er raskest?\n",
    "\n",
    "***Skriv koden din i kodeblokken nedenfor***"
   ]
  },
  {
   "cell_type": "code",
   "execution_count": null,
   "id": "3ac54c39",
   "metadata": {
    "hidden": true
   },
   "outputs": [],
   "source": [
    "# Skriv koden din her\n",
    "setup1 = \"\"\"\n",
    "import numpy as np\n",
    "import timeit\n",
    "import random\n",
    "\"\"\"\n",
    "\n",
    "\n",
    "\n",
    "kode1 = \"\"\"\n",
    "arr1 = np.array([i for i in range(1000000)])\n",
    "arr2 = np.array([i for i in range(1000000)])\n",
    "arr = np.dot(arr1, arr2)\n",
    "\"\"\"\n",
    "\n",
    "kode2 = \"\"\"\n",
    "arr1 = np.array([i for i in range(1000000)])\n",
    "arr2 = np.array([i for i in range(1000000)])\n",
    "arr = np.dot(arr1, arr2)\n",
    "\"\"\"\n",
    "\n",
    "kode3 = \"\"\"\n",
    "arr1 = np.array([i for i in range(1000000)])\n",
    "arr2 = np.array([i for i in range(1000000)])\n",
    "arr = np.dot(arr1, arr2)\n",
    "\"\"\"\n",
    "\n",
    "timeit.timeit(kode1, setup=setup, number=1)\n",
    "timeit.timeit(kode2, setup=setup, number=1)\n",
    "timeit.timeit(kode3, setup=setup, number=1)\n",
    "\n",
    "\n"
   ]
  }
 ],
 "metadata": {
  "kernelspec": {
   "display_name": "Python 3.9.7 ('tdt4195')",
   "language": "python",
   "name": "python3"
  },
  "language_info": {
   "codemirror_mode": {
    "name": "ipython",
    "version": 3
   },
   "file_extension": ".py",
   "mimetype": "text/x-python",
   "name": "python",
   "nbconvert_exporter": "python",
   "pygments_lexer": "ipython3",
   "version": "3.11.1"
  },
  "vscode": {
   "interpreter": {
    "hash": "63b89d9bfc14eb4486c27c9b239bf0a08c4c63a21c176f83036370f0e204c130"
   }
  }
 },
 "nbformat": 4,
 "nbformat_minor": 5
}
